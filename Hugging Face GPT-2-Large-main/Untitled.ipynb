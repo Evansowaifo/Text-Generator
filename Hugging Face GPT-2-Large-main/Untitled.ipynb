{
 "cells": [
  {
   "cell_type": "code",
   "execution_count": 1,
   "id": "e1859ea5-3a51-4767-acce-9b26201df0cc",
   "metadata": {},
   "outputs": [
    {
     "name": "stdout",
     "output_type": "stream",
     "text": [
      "Requirement already satisfied: transformers in c:\\users\\christopher ogbeide\\appdata\\local\\programs\\python\\python310\\lib\\site-packages (4.26.0)\n",
      "Requirement already satisfied: tqdm>=4.27 in c:\\users\\christopher ogbeide\\appdata\\local\\programs\\python\\python310\\lib\\site-packages (from transformers) (4.64.1)\n",
      "Requirement already satisfied: requests in c:\\users\\christopher ogbeide\\appdata\\local\\programs\\python\\python310\\lib\\site-packages (from transformers) (2.27.1)\n",
      "Requirement already satisfied: huggingface-hub<1.0,>=0.11.0 in c:\\users\\christopher ogbeide\\appdata\\local\\programs\\python\\python310\\lib\\site-packages (from transformers) (0.12.0)\n",
      "Requirement already satisfied: tokenizers!=0.11.3,<0.14,>=0.11.1 in c:\\users\\christopher ogbeide\\appdata\\local\\programs\\python\\python310\\lib\\site-packages (from transformers) (0.13.2)\n",
      "Requirement already satisfied: regex!=2019.12.17 in c:\\users\\christopher ogbeide\\appdata\\local\\programs\\python\\python310\\lib\\site-packages (from transformers) (2022.10.31)\n",
      "Requirement already satisfied: packaging>=20.0 in c:\\users\\christopher ogbeide\\appdata\\local\\programs\\python\\python310\\lib\\site-packages (from transformers) (21.3)\n",
      "Requirement already satisfied: pyyaml>=5.1 in c:\\users\\christopher ogbeide\\appdata\\local\\programs\\python\\python310\\lib\\site-packages (from transformers) (6.0)\n",
      "Requirement already satisfied: numpy>=1.17 in c:\\users\\christopher ogbeide\\appdata\\local\\programs\\python\\python310\\lib\\site-packages (from transformers) (1.24.1)\n",
      "Requirement already satisfied: filelock in c:\\users\\christopher ogbeide\\appdata\\local\\programs\\python\\python310\\lib\\site-packages (from transformers) (3.9.0)\n",
      "Requirement already satisfied: typing-extensions>=3.7.4.3 in c:\\users\\christopher ogbeide\\appdata\\local\\programs\\python\\python310\\lib\\site-packages (from huggingface-hub<1.0,>=0.11.0->transformers) (4.4.0)\n",
      "Requirement already satisfied: pyparsing!=3.0.5,>=2.0.2 in c:\\users\\christopher ogbeide\\appdata\\local\\programs\\python\\python310\\lib\\site-packages (from packaging>=20.0->transformers) (3.0.7)\n",
      "Requirement already satisfied: colorama in c:\\users\\christopher ogbeide\\appdata\\local\\programs\\python\\python310\\lib\\site-packages (from tqdm>=4.27->transformers) (0.4.4)\n",
      "Requirement already satisfied: idna<4,>=2.5 in c:\\users\\christopher ogbeide\\appdata\\local\\programs\\python\\python310\\lib\\site-packages (from requests->transformers) (3.3)\n",
      "Requirement already satisfied: certifi>=2017.4.17 in c:\\users\\christopher ogbeide\\appdata\\local\\programs\\python\\python310\\lib\\site-packages (from requests->transformers) (2021.10.8)\n",
      "Requirement already satisfied: urllib3<1.27,>=1.21.1 in c:\\users\\christopher ogbeide\\appdata\\local\\programs\\python\\python310\\lib\\site-packages (from requests->transformers) (1.26.8)\n",
      "Requirement already satisfied: charset-normalizer~=2.0.0 in c:\\users\\christopher ogbeide\\appdata\\local\\programs\\python\\python310\\lib\\site-packages (from requests->transformers) (2.0.12)\n"
     ]
    }
   ],
   "source": [
    "!pip install transformers"
   ]
  },
  {
   "cell_type": "code",
   "execution_count": 2,
   "id": "131776e1-6b46-4f11-b2e8-c392dee8c731",
   "metadata": {},
   "outputs": [],
   "source": [
    "import tensorflow as tf"
   ]
  },
  {
   "cell_type": "code",
   "execution_count": 3,
   "id": "8d2cd040-7618-4c14-a63a-a855975074e2",
   "metadata": {},
   "outputs": [],
   "source": [
    "from transformers import GPT2Tokenizer, GPT2LMHeadModel"
   ]
  },
  {
   "cell_type": "code",
   "execution_count": 4,
   "id": "5c9da7d5-ce52-4e23-a39a-7e540a55d988",
   "metadata": {},
   "outputs": [],
   "source": [
    "tokenizer = GPT2Tokenizer.from_pretrained('gpt2')\n",
    "model = GPT2LMHeadModel.from_pretrained('gpt2', pad_token_id = tokenizer.eos_token_id)"
   ]
  },
  {
   "cell_type": "code",
   "execution_count": 16,
   "id": "60c05091-f722-4a41-8b85-132b43cdb87a",
   "metadata": {},
   "outputs": [],
   "source": [
    "sentence = 'Evolution'"
   ]
  },
  {
   "cell_type": "code",
   "execution_count": 17,
   "id": "8bc4d4d4-5c7a-4db8-a57f-8ab317fe815c",
   "metadata": {},
   "outputs": [],
   "source": [
    "inputs = tokenizer.encode(sentence, return_tensors ='pt')"
   ]
  },
  {
   "cell_type": "code",
   "execution_count": 18,
   "id": "fcf42826-dea0-4250-92f6-311a0a7dbb26",
   "metadata": {},
   "outputs": [
    {
     "data": {
      "text/plain": [
       "tensor([[15200,  2122]])"
      ]
     },
     "execution_count": 18,
     "metadata": {},
     "output_type": "execute_result"
    }
   ],
   "source": [
    "inputs"
   ]
  },
  {
   "cell_type": "code",
   "execution_count": 22,
   "id": "1b892e86-ed17-48e8-a1ed-554faa23612a",
   "metadata": {},
   "outputs": [
    {
     "name": "stdout",
     "output_type": "stream",
     "text": [
      "Evolution\n"
     ]
    }
   ],
   "source": [
    "print(tokenizer.decode(inputs[0], return_tensors = 'pt'))"
   ]
  },
  {
   "cell_type": "code",
   "execution_count": 23,
   "id": "04d28c3f-47cf-441f-b7eb-26d8f1704a81",
   "metadata": {},
   "outputs": [],
   "source": [
    "################################################################################"
   ]
  },
  {
   "cell_type": "code",
   "execution_count": 24,
   "id": "dbc65174-461f-4d1b-a41a-2e5c81e73e39",
   "metadata": {},
   "outputs": [],
   "source": [
    "outputs = model.generate(inputs, max_length=150, num_beams=5, no_repeat_ngram_size=2, early_stopping=True)"
   ]
  },
  {
   "cell_type": "code",
   "execution_count": 25,
   "id": "ce5d7b33-88af-4a38-b05a-7a0e1a5f6bb0",
   "metadata": {},
   "outputs": [
    {
     "data": {
      "text/plain": [
       "tensor([[15200,  2122,   560, 17219,   318,   262,  2050,   286,   262,  6954,\n",
       "           286,  1204,   319,  3668,    13,   632,   318,  1912,   319,   262,\n",
       "          4583,   286,  6954,    11,   543,  2585,   326,   477,  2877,  1243,\n",
       "         12572,   422,   530,  2219, 31836,    13, 15815,   318,   257,  1429,\n",
       "           287,   543,   257,  1448,   286, 20296,    11,  1123,   351,   663,\n",
       "           898,  3748,   900,   286,  9695,    11,   389,  1498,   284,  6068,\n",
       "           284,  1180, 12493,   290, 12493,    13,   198,   198,   818,   428,\n",
       "          2708,    11,   356,   481,   804,   379,   703,  6954,   468,  3421,\n",
       "           262,   835,   356,   892,   546,  1204,    11,   290,   703,   340,\n",
       "           468,  5676,   674,  4547,   286,   703,   356,  2107,    13,   775,\n",
       "           481,   635,  7301,   262,  2842,   326,  6954,   460,  2689,   674,\n",
       "          2694,   284,  2107,   257,  5448,   290, 26187,  1204,    13, 50256]])"
      ]
     },
     "execution_count": 25,
     "metadata": {},
     "output_type": "execute_result"
    }
   ],
   "source": [
    "outputs"
   ]
  },
  {
   "cell_type": "raw",
   "id": "185e6c6e-9123-4228-975b-e8b377429ea3",
   "metadata": {},
   "source": []
  },
  {
   "cell_type": "code",
   "execution_count": 26,
   "id": "8e037200-3953-4584-8a9b-5137dd348e22",
   "metadata": {},
   "outputs": [
    {
     "name": "stdout",
     "output_type": "stream",
     "text": [
      "Evolutionary biology is the study of the evolution of life on Earth. It is based on the theory of evolution, which states that all living things evolved from one common ancestor. Evolution is a process in which a group of organisms, each with its own unique set of characteristics, are able to adapt to different environments and environments.\n",
      "\n",
      "In this article, we will look at how evolution has changed the way we think about life, and how it has affected our understanding of how we live. We will also explore the ways that evolution can affect our ability to live a healthy and fulfilling life.\n"
     ]
    }
   ],
   "source": [
    "print(tokenizer.decode(outputs[0], skip_special_tokens=True))"
   ]
  },
  {
   "cell_type": "code",
   "execution_count": null,
   "id": "bce46a0b-312b-44e3-8dfd-7627e4e489c0",
   "metadata": {},
   "outputs": [],
   "source": []
  },
  {
   "cell_type": "code",
   "execution_count": 87,
   "id": "9e3ed7e6-a652-4067-b60e-12fe7843ba46",
   "metadata": {},
   "outputs": [
    {
     "ename": "SyntaxError",
     "evalue": "unterminated string literal (detected at line 1) (3459106686.py, line 1)",
     "output_type": "error",
     "traceback": [
      "\u001b[1;36m  Input \u001b[1;32mIn [87]\u001b[1;36m\u001b[0m\n\u001b[1;33m    \"I don't know if I'm going to be able to do that,\" he said. \"I'm not sure I can do it. I've got a lot of work ahead of me and I want to\u001b[0m\n\u001b[1;37m                                                                ^\u001b[0m\n\u001b[1;31mSyntaxError\u001b[0m\u001b[1;31m:\u001b[0m unterminated string literal (detected at line 1)\n"
     ]
    }
   ],
   "source": [
    "\"I don't know if I'm going to be able to do that,\" he said. \"I'm not sure I can do it. I've got a lot of work ahead of me and I want to"
   ]
  },
  {
   "cell_type": "code",
   "execution_count": null,
   "id": "301c9e05-c1e5-4d27-a6f6-07d712ee6a51",
   "metadata": {},
   "outputs": [],
   "source": []
  }
 ],
 "metadata": {
  "kernelspec": {
   "display_name": "Python 3 (ipykernel)",
   "language": "python",
   "name": "python3"
  },
  "language_info": {
   "codemirror_mode": {
    "name": "ipython",
    "version": 3
   },
   "file_extension": ".py",
   "mimetype": "text/x-python",
   "name": "python",
   "nbconvert_exporter": "python",
   "pygments_lexer": "ipython3",
   "version": "3.10.2"
  }
 },
 "nbformat": 4,
 "nbformat_minor": 5
}
